{
 "cells": [
  {
   "cell_type": "code",
   "execution_count": null,
   "metadata": {},
   "outputs": [],
   "source": [
    "#1) Write a function that inputs a number and prints the multiplication table of that number"
   ]
  },
  {
   "cell_type": "code",
   "execution_count": 1,
   "metadata": {},
   "outputs": [
    {
     "name": "stdout",
     "output_type": "stream",
     "text": [
      "Enter the number:5\n",
      "5 * 1 =5\n",
      "5 * 2 =10\n",
      "5 * 3 =15\n",
      "5 * 4 =20\n",
      "5 * 5 =25\n",
      "5 * 6 =30\n",
      "5 * 7 =35\n",
      "5 * 8 =40\n",
      "5 * 9 =45\n",
      "5 * 10 =50\n"
     ]
    }
   ],
   "source": [
    "def mult(n):\n",
    "    \"\"\"\n",
    "        Function that prints the multiplication table of that number.\n",
    "    \"\"\"\n",
    "    for i in range (1,11):\n",
    "        print(\"{0} * {1} ={2}\".format(n,i,n*i))\n",
    "\n",
    "n=int(input(\"Enter the number:\"))\n",
    "mult(n)"
   ]
  },
  {
   "cell_type": "code",
   "execution_count": 2,
   "metadata": {},
   "outputs": [],
   "source": [
    "#2)Write a program to print twin primes less than 1000. \n",
    "#If two consecutive odd numbers are both prime then they are known as twin primes."
   ]
  },
  {
   "cell_type": "code",
   "execution_count": 3,
   "metadata": {},
   "outputs": [
    {
     "name": "stdout",
     "output_type": "stream",
     "text": [
      "Twin prime numbers till 1000\n",
      "3 5\n",
      "5 7\n",
      "11 13\n",
      "17 19\n",
      "29 31\n",
      "41 43\n",
      "59 61\n",
      "71 73\n",
      "101 103\n",
      "107 109\n",
      "137 139\n",
      "149 151\n",
      "179 181\n",
      "191 193\n",
      "197 199\n",
      "227 229\n",
      "239 241\n",
      "269 271\n",
      "281 283\n",
      "311 313\n",
      "347 349\n",
      "419 421\n",
      "431 433\n",
      "461 463\n",
      "521 523\n",
      "569 571\n",
      "599 601\n",
      "617 619\n",
      "641 643\n",
      "659 661\n",
      "809 811\n",
      "821 823\n",
      "827 829\n",
      "857 859\n",
      "881 883\n"
     ]
    }
   ],
   "source": [
    "import numpy as np\n",
    "def prime(n):\n",
    "    \"\"\"\n",
    "    Find Prime CF of two numbers using (sieve of eratosthenes Alogrithm)\n",
    "    \"\"\"\n",
    "    p=np.arange(n)\n",
    "    p[0]=0\n",
    "    p[1]=0\n",
    "    for i in range (2,n):\n",
    "        p[i]=1\n",
    "\n",
    "    for i in range (2,n):\n",
    "        if p[i]==1:\n",
    "            j=2                            \n",
    "        while(i*j<n):\n",
    "            p[i*j]=0\n",
    "            j+=1\n",
    "\n",
    "    print(\"Twin prime numbers till {}\".format(n))\n",
    "    for i in range (n-1):\n",
    "        if p[i]==1 and p[i+2]==1:\n",
    "            print(i,i+2)\n",
    "\n",
    "prime(1000)\n",
    "        \n"
   ]
  },
  {
   "cell_type": "code",
   "execution_count": null,
   "metadata": {},
   "outputs": [],
   "source": [
    "#3) Write a program to find out the prime factors of a number. Example: prime factors of 56 -\n",
    "#2, 2, 2,7)"
   ]
  },
  {
   "cell_type": "code",
   "execution_count": 7,
   "metadata": {},
   "outputs": [
    {
     "name": "stdout",
     "output_type": "stream",
     "text": [
      "Enter any number to find prime factors:15\n",
      "3\n"
     ]
    }
   ],
   "source": [
    "import math \n",
    "def primefactors(n):\n",
    "    c=0\n",
    "    for i in range (2,int(math.sqrt(n))+1):\n",
    "            while (n%i==0):\n",
    "                n=n/i\n",
    "                c+=1\n",
    "                print(i)\n",
    "    if c==0 :\n",
    "        print(\"{} is a prime number.No prime factors for prime number.\".format(n))\n",
    "\n",
    "i=int(input(\"Enter any number to find prime factors:\"))\n",
    "primefactors(i)\n"
   ]
  },
  {
   "cell_type": "code",
   "execution_count": 8,
   "metadata": {},
   "outputs": [],
   "source": [
    "#4) Write a program to implement these formulae of permutations and combinations.\n",
    "#Number of permutations of n objects taken r at a time: p(n, r) = n! / (n-r)!. Number of\n",
    "#combinations of n objects taken r at a time is: c(n, r) = n! / (r!*(n-r)!) = p(n,r) / r!"
   ]
  },
  {
   "cell_type": "code",
   "execution_count": 9,
   "metadata": {},
   "outputs": [
    {
     "name": "stdout",
     "output_type": "stream",
     "text": [
      "Enter number of Objects:6\n",
      "Enter the time of objects taken at time: 3\n",
      "Combination of p(6,3)=20.0\n",
      "Permutation of p(6,3)=120.0\n"
     ]
    }
   ],
   "source": [
    "def fact(num):\n",
    "    \"\"\"\n",
    "    Old School method to find factorial of a number without using recursive.\n",
    "    \"\"\"\n",
    "    if num==0 or num==1:\n",
    "        return 1\n",
    "    else:\n",
    "        p=1\n",
    "        for i in range (2,num+1):\n",
    "            p*=i\n",
    "        return p    \n",
    "            \n",
    "def permutation(n,r):\n",
    "    result=fact(n)/fact(n-r)\n",
    "    print(\"Permutation of p({0},{1})={2}\".format(n,r,result))\n",
    "\n",
    "def combination(n,r):\n",
    "    result=fact(n)/(fact(r)*fact(n-r))\n",
    "    print(\"Combination of p({0},{1})={2}\".format(n,r,result))\n",
    "\n",
    "n=int(input(\"Enter number of Objects:\"))\n",
    "r=int(input(\"Enter the time of objects taken at time: \"))\n",
    "combination(n,r)\n",
    "permutation(n,r)"
   ]
  },
  {
   "cell_type": "code",
   "execution_count": null,
   "metadata": {},
   "outputs": [],
   "source": [
    "#5)Write a function that converts a decimal number to binary number"
   ]
  },
  {
   "cell_type": "code",
   "execution_count": 12,
   "metadata": {},
   "outputs": [
    {
     "name": "stdout",
     "output_type": "stream",
     "text": [
      "Enter number in decimal format:112\n",
      "112 in binary:1110000\n"
     ]
    }
   ],
   "source": [
    "import numpy as np\n",
    "def dec2bin(n):\n",
    "    bin=[]\n",
    "    while (n>0):\n",
    "        r=int(n%2)\n",
    "        n=int(n/2)\n",
    "        bin.append(r)\n",
    "    bin.reverse()\n",
    "    \n",
    "    # Adding the numbers by using power of 10's using one's twos'....\n",
    "    res = sum(d * 10**i for i, d in enumerate(bin[::-1])) \n",
    "    return res\n",
    "n=int(input(\"Enter number in decimal format:\"))\n",
    "print(\"{} in binary:{}\".format(n,dec2bin(n)))"
   ]
  },
  {
   "cell_type": "code",
   "execution_count": null,
   "metadata": {},
   "outputs": [],
   "source": [
    "#6)Write a function cubesum() that accepts an integer and returns the sum of the cubes of\n",
    "#individual digits of that number. Use this function to make functions PrintArmstrong() and\n",
    "#isArmstrong() to print Armstrong numbers and to find whether is an Armstrong number."
   ]
  },
  {
   "cell_type": "code",
   "execution_count": 13,
   "metadata": {},
   "outputs": [
    {
     "name": "stdout",
     "output_type": "stream",
     "text": [
      "Enter the number:407\n",
      "407 is Armstrong number\n"
     ]
    }
   ],
   "source": [
    "def isArmstrong(s,n):\n",
    "    if s==n:\n",
    "        print(\"{} is Armstrong number\".format(n))\n",
    "    else:\n",
    "        print(\"{} is not a Armstrong number\".format(n))\n",
    "\n",
    "def cubesum(n):\n",
    "    l=[int(x) for x in str(n)]\n",
    "    s=0\n",
    "    for ele in l:\n",
    "        s+=ele**3\n",
    "    isArmstrong(s,n)\n",
    "\n",
    "def PrintArmstrong(n):\n",
    "    cubesum(n)    \n",
    " \n",
    "n=int(input(\"Enter the number:\"))\n",
    "PrintArmstrong(n)"
   ]
  },
  {
   "cell_type": "code",
   "execution_count": null,
   "metadata": {},
   "outputs": [],
   "source": [
    "#Write a function prodDigits() that inputs a number and returns the product of digits of that number."
   ]
  },
  {
   "cell_type": "code",
   "execution_count": 14,
   "metadata": {},
   "outputs": [
    {
     "name": "stdout",
     "output_type": "stream",
     "text": [
      "Enter the number to find products of digits:143\n",
      "12 is the product of each digits in 143\n"
     ]
    }
   ],
   "source": [
    "def prodDigits(n):\n",
    "    l=[int(x) for x in str(n)]\n",
    "    p=1\n",
    "    for ele in l:\n",
    "        p*=ele\n",
    "    return p    \n",
    "\n",
    "if __name__ == '__main__':\n",
    "    n=int(input(\"Enter the number to find products of digits:\"))\n",
    "    print(\"{} is the product of each digits in {}\".format(prodDigits(n),n))"
   ]
  },
  {
   "cell_type": "code",
   "execution_count": null,
   "metadata": {},
   "outputs": [],
   "source": [
    "#8 Find digital Multiplicative digital root of n."
   ]
  },
  {
   "cell_type": "code",
   "execution_count": 29,
   "metadata": {},
   "outputs": [
    {
     "name": "stdout",
     "output_type": "stream",
     "text": [
      "Enter the number:341\n",
      "MDR:2 MPersistence:2\n"
     ]
    }
   ],
   "source": [
    "#import prodDigits\n",
    "n=int(input(\"Enter the number:\"))\n",
    "c=0\n",
    "if n<9:\n",
    "    print(\"MDR:{} MPersistence:{}\".format(n,c))\n",
    "else:\n",
    "    while(n>9):\n",
    "        n=prodDigits(n)\n",
    "        if n>=0:\n",
    "            c+=1\n",
    "    print(\"MDR:{} MPersistence:{}\".format(n,c))    "
   ]
  },
  {
   "cell_type": "code",
   "execution_count": null,
   "metadata": {},
   "outputs": [],
   "source": [
    "#9 Write a function sumPdivisors() that finds the sum of proper divisors of a number."
   ]
  },
  {
   "cell_type": "code",
   "execution_count": 30,
   "metadata": {},
   "outputs": [
    {
     "name": "stdout",
     "output_type": "stream",
     "text": [
      "Enter the number:18\n",
      "Divisor of 18 :[1, 2, 3, 6, 9]\n",
      "Sum of these Divisor:21\n"
     ]
    }
   ],
   "source": [
    "def sumPdivisors(n):\n",
    "    l=[]\n",
    "    s=0\n",
    "    if n==1:\n",
    "        return [[1],1]\n",
    "    else:    \n",
    "        for i in range (1,int(n/2)+1):\n",
    "            if (n%i==0):\n",
    "                l.append(i)\n",
    "                s+=i\n",
    "        return [l,s]\n",
    "         \n",
    "if __name__ == \"__main__\":\n",
    "    n=int(input(\"Enter the number:\"))\n",
    "    o=sumPdivisors(n)\n",
    "    print(\"Divisor of {} :{}\\nSum of these Divisor:{}\".format(n,o[0],o[1]))"
   ]
  },
  {
   "cell_type": "code",
   "execution_count": null,
   "metadata": {},
   "outputs": [],
   "source": [
    "#10 Write a program to print all the perfect numbers in a given range"
   ]
  },
  {
   "cell_type": "code",
   "execution_count": 35,
   "metadata": {},
   "outputs": [
    {
     "name": "stdout",
     "output_type": "stream",
     "text": [
      "Enter the number:8128\n",
      "Yeah! 8128 is  a perfect number\n"
     ]
    }
   ],
   "source": [
    "#import sumPdivisors\n",
    "\n",
    "def isPerfect(n):\n",
    "    r=sumPdivisors(n)\n",
    "    if r[1]==n :\n",
    "        print(\"Yeah! {} is  a perfect number\".format(n))\n",
    "    else:\n",
    "        print(\"Sorry! {} is  not a perfect number\".format(n))\n",
    "\n",
    "n=int(input(\"Enter the number:\"))\n",
    "isPerfect(n)"
   ]
  },
  {
   "cell_type": "code",
   "execution_count": null,
   "metadata": {},
   "outputs": [],
   "source": [
    "#11 Write a function to print pairs of amicable numbers in a range"
   ]
  },
  {
   "cell_type": "code",
   "execution_count": 37,
   "metadata": {},
   "outputs": [
    {
     "name": "stdout",
     "output_type": "stream",
     "text": [
      "Enter the range to find amicable numbers:10000\n",
      "Amicable pairs:\n",
      "{220: 284, 284: 220, 1184: 1210, 1210: 1184, 2620: 2924, 2924: 2620, 5020: 5564, 5564: 5020, 6232: 6368, 6368: 6232}\n"
     ]
    }
   ],
   "source": [
    "#from code_9 import sumPdivisors\n",
    "def checkAmicable(n):\n",
    "    a=dict()\n",
    "    b=dict()\n",
    "    for i in range (n):\n",
    "        o=sumPdivisors(i)[1]\n",
    "        if o>1 and o!=i:\n",
    "            a.update({i:o})\n",
    "            \n",
    "    # Old Fashion For Loop\n",
    "    # for k in a.keys():\n",
    "    #     for k1,v in a.items():\n",
    "    #         if(k==v and a[v]==k1): \n",
    "    #             print(k,a[k])\n",
    "\n",
    "    # Comprehension list\n",
    "    c={k:a[k] for k in a.keys() for k1,v in a.items() if (k==v and a[v]==k1)}\n",
    "    print(\"Amicable pairs:\\n{}\".format(c))\n",
    " \n",
    "checkAmicable(int(input(\"Enter the range to find amicable numbers:\")))"
   ]
  },
  {
   "cell_type": "code",
   "execution_count": null,
   "metadata": {},
   "outputs": [],
   "source": [
    "#12 Write a program which can filter odd numbers in a list by using filter function"
   ]
  },
  {
   "cell_type": "code",
   "execution_count": 38,
   "metadata": {},
   "outputs": [
    {
     "name": "stdout",
     "output_type": "stream",
     "text": [
      "Enter the range:30\n",
      "Odd numbers under the range 30:\n",
      "[1, 3, 5, 7, 9, 11, 13, 15, 17, 19, 21, 23, 25, 27, 29]\n"
     ]
    }
   ],
   "source": [
    "def oddNumbers(n):\n",
    "    if n%2!=0:\n",
    "        return True\n",
    "\n",
    "n=int(input(\"Enter the range:\"))\n",
    "l=range(n)\n",
    "print(\"Odd numbers under the range {}:\".format(n))\n",
    "print(list(filter(oddNumbers,l)))\n"
   ]
  },
  {
   "cell_type": "code",
   "execution_count": null,
   "metadata": {},
   "outputs": [],
   "source": [
    "#13 Write a program which can map() to make a list whose elements are cube of elements in a given list"
   ]
  },
  {
   "cell_type": "code",
   "execution_count": 39,
   "metadata": {},
   "outputs": [
    {
     "name": "stdout",
     "output_type": "stream",
     "text": [
      "Enter the range:10\n",
      "List of cube elements:\n",
      "[0, 1, 8, 27, 64, 125, 216, 343, 512, 729]\n"
     ]
    }
   ],
   "source": [
    "def cubeElements(n):\n",
    "    return n**3\n",
    "\n",
    "if __name__ == \"__main__\":\n",
    "    n=int(input(\"Enter the range:\"))\n",
    "    l=range(n)\n",
    "    o=map(cubeElements,l)\n",
    "    print(\"List of cube elements:\\n{}\".format(list(o)))"
   ]
  },
  {
   "cell_type": "code",
   "execution_count": 40,
   "metadata": {},
   "outputs": [],
   "source": [
    "#14 Write a program which can map() and filter() to make a list whose elements are cube of \n",
    "#even number in a given list"
   ]
  },
  {
   "cell_type": "code",
   "execution_count": 41,
   "metadata": {},
   "outputs": [
    {
     "name": "stdout",
     "output_type": "stream",
     "text": [
      "Enter the range:15\n",
      "Even number under [2, 4, 6, 8, 10, 12, 14]:\n",
      "\n",
      "Cube of even number list:\n",
      "[8, 64, 216, 512, 1000, 1728, 2744]\n"
     ]
    }
   ],
   "source": [
    "#from code_13 import cubeElements\n",
    "\n",
    "def evenNumbers(n):\n",
    "    if n%2==0:\n",
    "        return True\n",
    "\n",
    "n=int(input(\"Enter the range:\"))\n",
    "l=range(1,n)\n",
    "\n",
    "evenList=list(filter(evenNumbers,l))\n",
    "cube_of_even_list=list(map(cubeElements,evenList))\n",
    "\n",
    "print(\"Even number under {}:\\n\".format(evenList))\n",
    "print(\"Cube of even number list:\\n{}\".format(cube_of_even_list))"
   ]
  },
  {
   "cell_type": "code",
   "execution_count": null,
   "metadata": {},
   "outputs": [],
   "source": []
  }
 ],
 "metadata": {
  "kernelspec": {
   "display_name": "Python 3",
   "language": "python",
   "name": "python3"
  },
  "language_info": {
   "codemirror_mode": {
    "name": "ipython",
    "version": 3
   },
   "file_extension": ".py",
   "mimetype": "text/x-python",
   "name": "python",
   "nbconvert_exporter": "python",
   "pygments_lexer": "ipython3",
   "version": "3.6.5"
  }
 },
 "nbformat": 4,
 "nbformat_minor": 2
}
